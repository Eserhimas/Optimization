{
  "nbformat": 4,
  "nbformat_minor": 0,
  "metadata": {
    "colab": {
      "provenance": []
    },
    "kernelspec": {
      "name": "python3",
      "display_name": "Python 3"
    },
    "language_info": {
      "name": "python"
    }
  },
  "cells": [
    {
      "cell_type": "code",
      "source": [
        "pip install ortools"
      ],
      "metadata": {
        "id": "y0_jpXV6TkVf"
      },
      "execution_count": null,
      "outputs": []
    },
    {
      "cell_type": "code",
      "execution_count": 3,
      "metadata": {
        "id": "bc5BAs2YTa5_"
      },
      "outputs": [],
      "source": [
        "from ortools.sat.python import cp_model"
      ]
    },
    {
      "cell_type": "code",
      "source": [
        "model = cp_model.CpModel()"
      ],
      "metadata": {
        "id": "rbhXmWmqTput"
      },
      "execution_count": 71,
      "outputs": []
    },
    {
      "cell_type": "code",
      "source": [
        "# variables\n",
        "\n",
        "shifts = {'Morning': 'M', 'Afternoon': 'A', 'Evening': 'E'}\n",
        "employees = ['Mark', 'Elon', 'David', 'Steve', 'Alan']\n",
        "days = range(7) # 0: Monday etc.\n",
        "\n",
        "schedule = {}\n",
        "\n",
        "for i in employees:\n",
        "  for j in days:\n",
        "    for k in shifts.values():\n",
        "      schedule[(i, j, k)] = model.NewBoolVar(f'{i}_{j}_{k}')\n",
        "\n",
        "print(schedule)"
      ],
      "metadata": {
        "colab": {
          "base_uri": "https://localhost:8080/"
        },
        "id": "jYUX7dtwT1PX",
        "outputId": "f3f0d2b0-3ae6-4454-cba3-2df5ae415100"
      },
      "execution_count": 72,
      "outputs": [
        {
          "output_type": "stream",
          "name": "stdout",
          "text": [
            "{('Mark', 0, 'M'): Mark_0_M(0..1), ('Mark', 0, 'A'): Mark_0_A(0..1), ('Mark', 0, 'E'): Mark_0_E(0..1), ('Mark', 1, 'M'): Mark_1_M(0..1), ('Mark', 1, 'A'): Mark_1_A(0..1), ('Mark', 1, 'E'): Mark_1_E(0..1), ('Mark', 2, 'M'): Mark_2_M(0..1), ('Mark', 2, 'A'): Mark_2_A(0..1), ('Mark', 2, 'E'): Mark_2_E(0..1), ('Mark', 3, 'M'): Mark_3_M(0..1), ('Mark', 3, 'A'): Mark_3_A(0..1), ('Mark', 3, 'E'): Mark_3_E(0..1), ('Mark', 4, 'M'): Mark_4_M(0..1), ('Mark', 4, 'A'): Mark_4_A(0..1), ('Mark', 4, 'E'): Mark_4_E(0..1), ('Mark', 5, 'M'): Mark_5_M(0..1), ('Mark', 5, 'A'): Mark_5_A(0..1), ('Mark', 5, 'E'): Mark_5_E(0..1), ('Mark', 6, 'M'): Mark_6_M(0..1), ('Mark', 6, 'A'): Mark_6_A(0..1), ('Mark', 6, 'E'): Mark_6_E(0..1), ('Elon', 0, 'M'): Elon_0_M(0..1), ('Elon', 0, 'A'): Elon_0_A(0..1), ('Elon', 0, 'E'): Elon_0_E(0..1), ('Elon', 1, 'M'): Elon_1_M(0..1), ('Elon', 1, 'A'): Elon_1_A(0..1), ('Elon', 1, 'E'): Elon_1_E(0..1), ('Elon', 2, 'M'): Elon_2_M(0..1), ('Elon', 2, 'A'): Elon_2_A(0..1), ('Elon', 2, 'E'): Elon_2_E(0..1), ('Elon', 3, 'M'): Elon_3_M(0..1), ('Elon', 3, 'A'): Elon_3_A(0..1), ('Elon', 3, 'E'): Elon_3_E(0..1), ('Elon', 4, 'M'): Elon_4_M(0..1), ('Elon', 4, 'A'): Elon_4_A(0..1), ('Elon', 4, 'E'): Elon_4_E(0..1), ('Elon', 5, 'M'): Elon_5_M(0..1), ('Elon', 5, 'A'): Elon_5_A(0..1), ('Elon', 5, 'E'): Elon_5_E(0..1), ('Elon', 6, 'M'): Elon_6_M(0..1), ('Elon', 6, 'A'): Elon_6_A(0..1), ('Elon', 6, 'E'): Elon_6_E(0..1), ('David', 0, 'M'): David_0_M(0..1), ('David', 0, 'A'): David_0_A(0..1), ('David', 0, 'E'): David_0_E(0..1), ('David', 1, 'M'): David_1_M(0..1), ('David', 1, 'A'): David_1_A(0..1), ('David', 1, 'E'): David_1_E(0..1), ('David', 2, 'M'): David_2_M(0..1), ('David', 2, 'A'): David_2_A(0..1), ('David', 2, 'E'): David_2_E(0..1), ('David', 3, 'M'): David_3_M(0..1), ('David', 3, 'A'): David_3_A(0..1), ('David', 3, 'E'): David_3_E(0..1), ('David', 4, 'M'): David_4_M(0..1), ('David', 4, 'A'): David_4_A(0..1), ('David', 4, 'E'): David_4_E(0..1), ('David', 5, 'M'): David_5_M(0..1), ('David', 5, 'A'): David_5_A(0..1), ('David', 5, 'E'): David_5_E(0..1), ('David', 6, 'M'): David_6_M(0..1), ('David', 6, 'A'): David_6_A(0..1), ('David', 6, 'E'): David_6_E(0..1), ('Steve', 0, 'M'): Steve_0_M(0..1), ('Steve', 0, 'A'): Steve_0_A(0..1), ('Steve', 0, 'E'): Steve_0_E(0..1), ('Steve', 1, 'M'): Steve_1_M(0..1), ('Steve', 1, 'A'): Steve_1_A(0..1), ('Steve', 1, 'E'): Steve_1_E(0..1), ('Steve', 2, 'M'): Steve_2_M(0..1), ('Steve', 2, 'A'): Steve_2_A(0..1), ('Steve', 2, 'E'): Steve_2_E(0..1), ('Steve', 3, 'M'): Steve_3_M(0..1), ('Steve', 3, 'A'): Steve_3_A(0..1), ('Steve', 3, 'E'): Steve_3_E(0..1), ('Steve', 4, 'M'): Steve_4_M(0..1), ('Steve', 4, 'A'): Steve_4_A(0..1), ('Steve', 4, 'E'): Steve_4_E(0..1), ('Steve', 5, 'M'): Steve_5_M(0..1), ('Steve', 5, 'A'): Steve_5_A(0..1), ('Steve', 5, 'E'): Steve_5_E(0..1), ('Steve', 6, 'M'): Steve_6_M(0..1), ('Steve', 6, 'A'): Steve_6_A(0..1), ('Steve', 6, 'E'): Steve_6_E(0..1), ('Alan', 0, 'M'): Alan_0_M(0..1), ('Alan', 0, 'A'): Alan_0_A(0..1), ('Alan', 0, 'E'): Alan_0_E(0..1), ('Alan', 1, 'M'): Alan_1_M(0..1), ('Alan', 1, 'A'): Alan_1_A(0..1), ('Alan', 1, 'E'): Alan_1_E(0..1), ('Alan', 2, 'M'): Alan_2_M(0..1), ('Alan', 2, 'A'): Alan_2_A(0..1), ('Alan', 2, 'E'): Alan_2_E(0..1), ('Alan', 3, 'M'): Alan_3_M(0..1), ('Alan', 3, 'A'): Alan_3_A(0..1), ('Alan', 3, 'E'): Alan_3_E(0..1), ('Alan', 4, 'M'): Alan_4_M(0..1), ('Alan', 4, 'A'): Alan_4_A(0..1), ('Alan', 4, 'E'): Alan_4_E(0..1), ('Alan', 5, 'M'): Alan_5_M(0..1), ('Alan', 5, 'A'): Alan_5_A(0..1), ('Alan', 5, 'E'): Alan_5_E(0..1), ('Alan', 6, 'M'): Alan_6_M(0..1), ('Alan', 6, 'A'): Alan_6_A(0..1), ('Alan', 6, 'E'): Alan_6_E(0..1)}\n"
          ]
        }
      ]
    },
    {
      "cell_type": "code",
      "source": [
        "schedule"
      ],
      "metadata": {
        "colab": {
          "base_uri": "https://localhost:8080/"
        },
        "id": "wFTIf8HsUfWu",
        "outputId": "af1004d6-45f0-49b3-937c-6836b10386a5"
      },
      "execution_count": 31,
      "outputs": [
        {
          "output_type": "execute_result",
          "data": {
            "text/plain": [
              "{('Mark', 0, 'M'): Mark_0_M(0..1),\n",
              " ('Mark', 0, 'A'): Mark_0_A(0..1),\n",
              " ('Mark', 0, 'E'): Mark_0_E(0..1),\n",
              " ('Mark', 1, 'M'): Mark_1_M(0..1),\n",
              " ('Mark', 1, 'A'): Mark_1_A(0..1),\n",
              " ('Mark', 1, 'E'): Mark_1_E(0..1),\n",
              " ('Mark', 2, 'M'): Mark_2_M(0..1),\n",
              " ('Mark', 2, 'A'): Mark_2_A(0..1),\n",
              " ('Mark', 2, 'E'): Mark_2_E(0..1),\n",
              " ('Mark', 3, 'M'): Mark_3_M(0..1),\n",
              " ('Mark', 3, 'A'): Mark_3_A(0..1),\n",
              " ('Mark', 3, 'E'): Mark_3_E(0..1),\n",
              " ('Mark', 4, 'M'): Mark_4_M(0..1),\n",
              " ('Mark', 4, 'A'): Mark_4_A(0..1),\n",
              " ('Mark', 4, 'E'): Mark_4_E(0..1),\n",
              " ('Mark', 5, 'M'): Mark_5_M(0..1),\n",
              " ('Mark', 5, 'A'): Mark_5_A(0..1),\n",
              " ('Mark', 5, 'E'): Mark_5_E(0..1),\n",
              " ('Mark', 6, 'M'): Mark_6_M(0..1),\n",
              " ('Mark', 6, 'A'): Mark_6_A(0..1),\n",
              " ('Mark', 6, 'E'): Mark_6_E(0..1),\n",
              " ('Elon', 0, 'M'): Elon_0_M(0..1),\n",
              " ('Elon', 0, 'A'): Elon_0_A(0..1),\n",
              " ('Elon', 0, 'E'): Elon_0_E(0..1),\n",
              " ('Elon', 1, 'M'): Elon_1_M(0..1),\n",
              " ('Elon', 1, 'A'): Elon_1_A(0..1),\n",
              " ('Elon', 1, 'E'): Elon_1_E(0..1),\n",
              " ('Elon', 2, 'M'): Elon_2_M(0..1),\n",
              " ('Elon', 2, 'A'): Elon_2_A(0..1),\n",
              " ('Elon', 2, 'E'): Elon_2_E(0..1),\n",
              " ('Elon', 3, 'M'): Elon_3_M(0..1),\n",
              " ('Elon', 3, 'A'): Elon_3_A(0..1),\n",
              " ('Elon', 3, 'E'): Elon_3_E(0..1),\n",
              " ('Elon', 4, 'M'): Elon_4_M(0..1),\n",
              " ('Elon', 4, 'A'): Elon_4_A(0..1),\n",
              " ('Elon', 4, 'E'): Elon_4_E(0..1),\n",
              " ('Elon', 5, 'M'): Elon_5_M(0..1),\n",
              " ('Elon', 5, 'A'): Elon_5_A(0..1),\n",
              " ('Elon', 5, 'E'): Elon_5_E(0..1),\n",
              " ('Elon', 6, 'M'): Elon_6_M(0..1),\n",
              " ('Elon', 6, 'A'): Elon_6_A(0..1),\n",
              " ('Elon', 6, 'E'): Elon_6_E(0..1),\n",
              " ('David', 0, 'M'): David_0_M(0..1),\n",
              " ('David', 0, 'A'): David_0_A(0..1),\n",
              " ('David', 0, 'E'): David_0_E(0..1),\n",
              " ('David', 1, 'M'): David_1_M(0..1),\n",
              " ('David', 1, 'A'): David_1_A(0..1),\n",
              " ('David', 1, 'E'): David_1_E(0..1),\n",
              " ('David', 2, 'M'): David_2_M(0..1),\n",
              " ('David', 2, 'A'): David_2_A(0..1),\n",
              " ('David', 2, 'E'): David_2_E(0..1),\n",
              " ('David', 3, 'M'): David_3_M(0..1),\n",
              " ('David', 3, 'A'): David_3_A(0..1),\n",
              " ('David', 3, 'E'): David_3_E(0..1),\n",
              " ('David', 4, 'M'): David_4_M(0..1),\n",
              " ('David', 4, 'A'): David_4_A(0..1),\n",
              " ('David', 4, 'E'): David_4_E(0..1),\n",
              " ('David', 5, 'M'): David_5_M(0..1),\n",
              " ('David', 5, 'A'): David_5_A(0..1),\n",
              " ('David', 5, 'E'): David_5_E(0..1),\n",
              " ('David', 6, 'M'): David_6_M(0..1),\n",
              " ('David', 6, 'A'): David_6_A(0..1),\n",
              " ('David', 6, 'E'): David_6_E(0..1),\n",
              " ('Steve', 0, 'M'): Steve_0_M(0..1),\n",
              " ('Steve', 0, 'A'): Steve_0_A(0..1),\n",
              " ('Steve', 0, 'E'): Steve_0_E(0..1),\n",
              " ('Steve', 1, 'M'): Steve_1_M(0..1),\n",
              " ('Steve', 1, 'A'): Steve_1_A(0..1),\n",
              " ('Steve', 1, 'E'): Steve_1_E(0..1),\n",
              " ('Steve', 2, 'M'): Steve_2_M(0..1),\n",
              " ('Steve', 2, 'A'): Steve_2_A(0..1),\n",
              " ('Steve', 2, 'E'): Steve_2_E(0..1),\n",
              " ('Steve', 3, 'M'): Steve_3_M(0..1),\n",
              " ('Steve', 3, 'A'): Steve_3_A(0..1),\n",
              " ('Steve', 3, 'E'): Steve_3_E(0..1),\n",
              " ('Steve', 4, 'M'): Steve_4_M(0..1),\n",
              " ('Steve', 4, 'A'): Steve_4_A(0..1),\n",
              " ('Steve', 4, 'E'): Steve_4_E(0..1),\n",
              " ('Steve', 5, 'M'): Steve_5_M(0..1),\n",
              " ('Steve', 5, 'A'): Steve_5_A(0..1),\n",
              " ('Steve', 5, 'E'): Steve_5_E(0..1),\n",
              " ('Steve', 6, 'M'): Steve_6_M(0..1),\n",
              " ('Steve', 6, 'A'): Steve_6_A(0..1),\n",
              " ('Steve', 6, 'E'): Steve_6_E(0..1),\n",
              " ('Alan', 0, 'M'): Alan_0_M(0..1),\n",
              " ('Alan', 0, 'A'): Alan_0_A(0..1),\n",
              " ('Alan', 0, 'E'): Alan_0_E(0..1),\n",
              " ('Alan', 1, 'M'): Alan_1_M(0..1),\n",
              " ('Alan', 1, 'A'): Alan_1_A(0..1),\n",
              " ('Alan', 1, 'E'): Alan_1_E(0..1),\n",
              " ('Alan', 2, 'M'): Alan_2_M(0..1),\n",
              " ('Alan', 2, 'A'): Alan_2_A(0..1),\n",
              " ('Alan', 2, 'E'): Alan_2_E(0..1),\n",
              " ('Alan', 3, 'M'): Alan_3_M(0..1),\n",
              " ('Alan', 3, 'A'): Alan_3_A(0..1),\n",
              " ('Alan', 3, 'E'): Alan_3_E(0..1),\n",
              " ('Alan', 4, 'M'): Alan_4_M(0..1),\n",
              " ('Alan', 4, 'A'): Alan_4_A(0..1),\n",
              " ('Alan', 4, 'E'): Alan_4_E(0..1),\n",
              " ('Alan', 5, 'M'): Alan_5_M(0..1),\n",
              " ('Alan', 5, 'A'): Alan_5_A(0..1),\n",
              " ('Alan', 5, 'E'): Alan_5_E(0..1),\n",
              " ('Alan', 6, 'M'): Alan_6_M(0..1),\n",
              " ('Alan', 6, 'A'): Alan_6_A(0..1),\n",
              " ('Alan', 6, 'E'): Alan_6_E(0..1)}"
            ]
          },
          "metadata": {},
          "execution_count": 31
        }
      ]
    },
    {
      "cell_type": "code",
      "source": [
        "# Constraints\n",
        "\n",
        "# 5 shifts per week\n",
        "for i in employees:\n",
        "  model.Add(sum(schedule[(i, day, shift)] for day in days for shift in shifts.values())==5)\n",
        "\n",
        "# no more than 2 consecutive shifts\n",
        "for i in employees:\n",
        "  for j in range(5):\n",
        "    for k in shifts.values():\n",
        "      model.Add(sum(schedule[(i, z, k)] for z in range(j, j+3))<=2)\n",
        "\n",
        "# Elon and Mark shouldn't work together\n",
        "for i in days:\n",
        "  for j in shifts.values():\n",
        "    model.Add(schedule[('Mark', i, j)] + schedule[('Elon', i, j)] <=1)\n",
        "\n",
        "# David and Steve shouldn't work together\n",
        "for i in days:\n",
        "  for j in shifts.values():\n",
        "    model.Add(schedule[('David', i, j)] + schedule[('Steve', i, j)] <=1)\n",
        "\n",
        "# Elon and Alan shouldn't work together\n",
        "for i in days:\n",
        "  for j in shifts.values():\n",
        "    model.Add(schedule[('Elon', i, j)] + schedule[('Alan', i, j)] <=1)\n",
        "\n",
        "\n",
        "# Mark and Steve shouldn't work together\n",
        "for i in days:\n",
        "  for j in shifts.values():\n",
        "    model.Add(schedule[('Mark', i, j)] + schedule[('Steve', i, j)] <=1)"
      ],
      "metadata": {
        "id": "pzCXuspfUiSu"
      },
      "execution_count": 73,
      "outputs": []
    },
    {
      "cell_type": "code",
      "source": [
        "# solver func\n",
        "solver = cp_model.CpSolver()\n",
        "status = solver.Solve(model)"
      ],
      "metadata": {
        "id": "GzIrAlCkVElZ"
      },
      "execution_count": 74,
      "outputs": []
    },
    {
      "cell_type": "code",
      "source": [
        "# solving the problem\n",
        "\n",
        "if status == cp_model.OPTIMAL or status == cp_model.FEASIBLE:\n",
        "  print('Solution:')\n",
        "  for i in days:\n",
        "    print(f'Day {i}: ')\n",
        "    for j in employees:\n",
        "      for k in shifts.values():\n",
        "        if solver.Value(schedule[(j, i, k)]):\n",
        "          print(f'{j}: {k}')\n",
        "  print()\n",
        "\n",
        "else:\n",
        "  print('No solution found.')\n"
      ],
      "metadata": {
        "colab": {
          "base_uri": "https://localhost:8080/"
        },
        "id": "HXaALpYvW9hY",
        "outputId": "cf2d0971-98cf-4369-a4af-982a4f1ab216"
      },
      "execution_count": 75,
      "outputs": [
        {
          "output_type": "stream",
          "name": "stdout",
          "text": [
            "Solution:\n",
            "Day 0: \n",
            "Steve: M\n",
            "Steve: A\n",
            "Steve: E\n",
            "Alan: M\n",
            "Alan: A\n",
            "Alan: E\n",
            "Day 1: \n",
            "Elon: E\n",
            "David: E\n",
            "Steve: M\n",
            "Steve: A\n",
            "Alan: M\n",
            "Alan: A\n",
            "Day 2: \n",
            "Elon: M\n",
            "Elon: A\n",
            "Elon: E\n",
            "David: M\n",
            "David: A\n",
            "David: E\n",
            "Day 3: \n",
            "Mark: A\n",
            "Mark: E\n",
            "Elon: M\n",
            "David: M\n",
            "Day 4: \n",
            "Mark: M\n",
            "Mark: A\n",
            "Mark: E\n",
            "Day 5: \n",
            "Day 6: \n",
            "\n"
          ]
        }
      ]
    },
    {
      "cell_type": "code",
      "source": [],
      "metadata": {
        "id": "lyBbbQZ_X_HG"
      },
      "execution_count": null,
      "outputs": []
    }
  ]
}